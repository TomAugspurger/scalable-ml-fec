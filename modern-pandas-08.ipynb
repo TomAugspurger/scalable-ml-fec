{
 "cells": [
  {
   "cell_type": "markdown",
   "metadata": {},
   "source": [
    "# Modern Pandas 8: Scaling\n",
    "\n",
    "As I sit down to write this, the third-most popular pandas question on StackOverflow covers [how to use pandas for large datasets](https://stackoverflow.com/q/14262433/1889400). This is in tension with the fact that a pandas DataFrame is an in memory container. *You can't have a `DataFrame` larger than your machine's RAM*. In practice, your available RAM should be several times the size of your dataset, as pandas will have to make intermediate copies.\n",
    "\n",
    "Historically, pandas users have scaled to larger datasets by switching away from pandas or using iteration. Both of these are perfectly valid approaches, but changing your workflow in response to scaling data is unfortunate. I use pandas because it's a pleasant experience, and I would like that experience to scale to larger datasets. That's what [Dask](dask.pydata.org/), a parallel computing library, enables. We'll discuss Dask in detail later. But first, let's work through scaling a simple analysis to a larger than memory dataset.\n",
    "\n",
    "Our task is to find the 100 most-common occupations reported in the FEC's [individual contributions dataest](https://classic.fec.gov/finance/disclosure/ftpdet.shtml). The files are split by election cycle (2007-2008, 2009-2010, ...). My laptop can read in each cycle's file individually, but the full dataset is too large to read in at once. Let's read in just 2010's file, and do the \"small data\" version."
   ]
  },
  {
   "cell_type": "code",
   "execution_count": 1,
   "metadata": {},
   "outputs": [],
   "source": [
    "from pathlib import Path\n",
    "\n",
    "import pandas as pd\n",
    "import seaborn as sns"
   ]
  },
  {
   "cell_type": "code",
   "execution_count": 2,
   "metadata": {
    "tags": [
     "remove_cell"
    ]
   },
   "outputs": [],
   "source": [
    "pd.options.display.max_rows = 10\n",
    "pd.options.display.max_columns = 60\n",
    "pd.options.display.float_format = lambda s: \"{:,.2f}\".format(s)"
   ]
  },
  {
   "cell_type": "code",
   "execution_count": 3,
   "metadata": {},
   "outputs": [
    {
     "data": {
      "text/plain": [
       "RETIRED                    279775\n",
       "ATTORNEY                   166768\n",
       "PRESIDENT                   81336\n",
       "PHYSICIAN                   73015\n",
       "HOMEMAKER                   66057\n",
       "                            ...  \n",
       "C.E.O.                       1945\n",
       "EMERGENCY PHYSICIAN          1944\n",
       "BUSINESS EXECUTIVE           1924\n",
       "BUSINESS REPRESENTATIVE      1879\n",
       "GOVERNMENT AFFAIRS           1867\n",
       "Name: occupation, Length: 100, dtype: int64"
      ]
     },
     "execution_count": 3,
     "metadata": {},
     "output_type": "execute_result"
    }
   ],
   "source": [
    "df = pd.read_parquet(\"data/indiv-10.parq\", columns=['occupation'], engine='pyarrow')\n",
    "\n",
    "most_common = df.occupation.value_counts().nlargest(100)\n",
    "most_common"
   ]
  },
  {
   "cell_type": "markdown",
   "metadata": {},
   "source": [
    "After reading in the file, our actual analysis is a simple 1-liner using two operations built into pandas. Truly, the best of all possible worlds.\n",
    "\n",
    "Next, we'll do the analysis for the entire dataset, which is larger than memory, in two ways. First we'll use just pandas and iteration. Then we'll use Dask.\n",
    "\n",
    "### Using Iteration\n",
    "\n",
    "To do this with just pandas we have to rewrite our code, taking care to never have too much data in RAM at once. We will\n",
    "\n",
    "1. Create a global `total_counts` Series that contains the counts from all of the files processed so far\n",
    "2. Read in a file\n",
    "3. Compute a temporary variable `counts` with the counts for just this file\n",
    "4. Add that temporary `counts` into the global `total_counts`\n",
    "5. Select the 100 largest with `.nlargest`\n",
    "\n",
    "This works since the `total_counts` Series is relatively small, and each year's data fits in RAM individually. Our peak memory usage should be the size of the largest individual cycle (2015-2016) plus the size of `total_counts` (which we can essentially ignore)."
   ]
  },
  {
   "cell_type": "code",
   "execution_count": 4,
   "metadata": {},
   "outputs": [
    {
     "name": "stdout",
     "output_type": "stream",
     "text": [
      "CPU times: user 17.7 s, sys: 1.54 s, total: 19.3 s\n",
      "Wall time: 19.3 s\n"
     ]
    }
   ],
   "source": [
    "%%time\n",
    "files = sorted(Path(\"data/\").glob(\"indiv-*.parq\"))\n",
    "\n",
    "total_counts = pd.Series()\n",
    "\n",
    "for year in files:\n",
    "    df = pd.read_parquet(year, columns=['occupation'],\n",
    "                         engine=\"pyarrow\")\n",
    "    counts = df.occupation.value_counts()\n",
    "    total_counts = total_counts.add(counts, fill_value=0)\n",
    "\n",
    "total_counts = total_counts.nlargest(100).sort_values(ascending=False)\n",
    "total_counts"
   ]
  },
  {
   "cell_type": "markdown",
   "metadata": {},
   "source": [
    "While this works, our small one-liner has ballooned in size (and complexity; should you *really* have to know about `Series.add`'s `fill_value` parameter for this simple analysis?). If only there was a better way...\n",
    "\n",
    "### Using Dask\n",
    "\n",
    "With Dask, we essentially recover our original code. We'll change our import to use `dask.dataframe.read_parquet`, which returns a Dask DataFrame."
   ]
  },
  {
   "cell_type": "code",
   "execution_count": 5,
   "metadata": {},
   "outputs": [],
   "source": [
    "import dask.dataframe as dd"
   ]
  },
  {
   "cell_type": "code",
   "execution_count": 6,
   "metadata": {},
   "outputs": [
    {
     "name": "stdout",
     "output_type": "stream",
     "text": [
      "CPU times: user 17.7 s, sys: 1.85 s, total: 19.5 s\n",
      "Wall time: 15.1 s\n"
     ]
    }
   ],
   "source": [
    "%%time\n",
    "df = dd.read_parquet(\"data/indiv-*.parq\", engine='pyarrow', columns=['occupation'])\n",
    "\n",
    "most_common = df.occupation.value_counts().nlargest(100)\n",
    "most_common.compute().sort_values(ascending=False)"
   ]
  },
  {
   "cell_type": "markdown",
   "metadata": {},
   "source": [
    "There are a couple differences from the original pandas version, which we'll discuss next, but overall I hope you agree that the Dask version is nicer than the version using iteration."
   ]
  },
  {
   "cell_type": "markdown",
   "metadata": {},
   "source": [
    "## Dask\n",
    "\n",
    "Now that we've seen `dask.dataframe` in action, let's step back and discuss Dask a bit. Dask is an open-source project that natively parallizes Python. I'm a happy user of and contributor to Dask.\n",
    "\n",
    "At a high-level, Dask provide familiar APIs for [large N-dimensional arrays](https://dask.pydata.org/en/latest/array.html), [large DataFrames](https://dask.pydata.org/en/latest/dataframe.html), and [familiar](https://distributed.readthedocs.io/en/latest/quickstart.html#map-and-submit-functions) ways to parallelize [custom algorithms](https://dask.pydata.org/en/latest/delayed.html).\n",
    "\n",
    "At a low-level, each of these is built on high-performance [task scheduling](http://dask.pydata.org/en/latest/scheduling.html) that executes operations in parallel. The [low-level details](http://dask.pydata.org/en/latest/spec.html) aren't too important; all we care about is that\n",
    "\n",
    "1. Dask works with *task graphs* (*tasks*: functions to call on data, and *graphs*: the relationships between tasks).\n",
    "2. This is a flexible and performant way to parallelize many different kinds of problems.\n",
    "\n",
    "To understand point 1, let's examine the difference between a Dask DataFrame and a pandas DataFrame. When we read in `df` with `dd.read_parquet`, we received a Dask DataFrame."
   ]
  },
  {
   "cell_type": "code",
   "execution_count": 7,
   "metadata": {},
   "outputs": [
    {
     "data": {
      "text/html": [
       "<div><strong>Dask DataFrame Structure:</strong></div>\n",
       "<div>\n",
       "<style scoped>\n",
       "    .dataframe tbody tr th:only-of-type {\n",
       "        vertical-align: middle;\n",
       "    }\n",
       "\n",
       "    .dataframe tbody tr th {\n",
       "        vertical-align: top;\n",
       "    }\n",
       "\n",
       "    .dataframe thead th {\n",
       "        text-align: right;\n",
       "    }\n",
       "</style>\n",
       "<table border=\"1\" class=\"dataframe\">\n",
       "  <thead>\n",
       "    <tr style=\"text-align: right;\">\n",
       "      <th></th>\n",
       "      <th>occupation</th>\n",
       "    </tr>\n",
       "    <tr>\n",
       "      <th>npartitions=5</th>\n",
       "      <th></th>\n",
       "    </tr>\n",
       "  </thead>\n",
       "  <tbody>\n",
       "    <tr>\n",
       "      <th></th>\n",
       "      <td>object</td>\n",
       "    </tr>\n",
       "    <tr>\n",
       "      <th></th>\n",
       "      <td>...</td>\n",
       "    </tr>\n",
       "    <tr>\n",
       "      <th>...</th>\n",
       "      <td>...</td>\n",
       "    </tr>\n",
       "    <tr>\n",
       "      <th></th>\n",
       "      <td>...</td>\n",
       "    </tr>\n",
       "    <tr>\n",
       "      <th></th>\n",
       "      <td>...</td>\n",
       "    </tr>\n",
       "  </tbody>\n",
       "</table>\n",
       "</div>\n",
       "<div>Dask Name: read-parquet, 5 tasks</div>"
      ],
      "text/plain": [
       "Dask DataFrame Structure:\n",
       "              occupation\n",
       "npartitions=5           \n",
       "                  object\n",
       "                     ...\n",
       "...                  ...\n",
       "                     ...\n",
       "                     ...\n",
       "Dask Name: read-parquet, 5 tasks"
      ]
     },
     "execution_count": 7,
     "metadata": {},
     "output_type": "execute_result"
    }
   ],
   "source": [
    "df"
   ]
  },
  {
   "cell_type": "markdown",
   "metadata": {},
   "source": [
    "A Dask DataFrame consists of many pandas DataFrames arranged by the index. Dask is really just coordinating these many pandas DataFrames."
   ]
  },
  {
   "cell_type": "markdown",
   "metadata": {},
   "source": [
    "<img src=\"http://dask.pydata.org/en/latest/_images/dask-dataframe.svg\" width=\"50%\"/>"
   ]
  },
  {
   "cell_type": "markdown",
   "metadata": {},
   "source": [
    "All the actual computation (reading from disk, computing the value counts, etc.) eventually use pandas internally. If I do `df.occupation.str.len`, Dask will coordinate calling `pandas.Series.str.len` on each of the pandas DataFrames."
   ]
  },
  {
   "cell_type": "markdown",
   "metadata": {},
   "source": [
    "Those reading carefully will notice a problem with the statement \"A Dask DataFrame consists of many pandas DataFrames\". Our initial problem was that we didn't have enough memory for those DataFrames! How can Dask be coordinating DataFrames if there isn't enough memory? This brings us to the second major difference: Dask DataFrames (and arrays) are lazy. Operations on them don't execute and produce the final result immediately. Rather, calling methods on them build up a task graph.\n",
    "\n",
    "We can visualize task graphs using `graphviz`."
   ]
  },
  {
   "cell_type": "code",
   "execution_count": 8,
   "metadata": {},
   "outputs": [
    {
     "data": {
      "image/png": "[encoded data removed]",
      "text/plain": [
       "<IPython.core.display.Image object>"
      ]
     },
     "execution_count": 8,
     "metadata": {},
     "output_type": "execute_result"
    }
   ],
   "source": [
    "df.visualize(rankdir='LR')"
   ]
  },
  {
   "cell_type": "markdown",
   "metadata": {},
   "source": [
    "`df` (the dask DataFrame consisting of many pandas DataFrames) has a task graph with 5 calls to a parquet reader (one for each file), each of which produces a DataFrame when called."
   ]
  },
  {
   "cell_type": "markdown",
   "metadata": {},
   "source": [
    "Calling additional methods on `df` add additional tasks to this graph. For example, our `most_common` has three additional calls\n",
    "\n",
    "- Select the `occupation` column (`__getitem__`)\n",
    "- Perform the value counts\n",
    "- Select the 100 largest values"
   ]
  },
  {
   "cell_type": "code",
   "execution_count": 9,
   "metadata": {},
   "outputs": [
    {
     "data": {
      "text/plain": [
       "Dask Series Structure:\n",
       "npartitions=1\n",
       "    int64\n",
       "      ...\n",
       "Name: occupation, dtype: int64\n",
       "Dask Name: series-nlargest-agg, 18 tasks"
      ]
     },
     "execution_count": 9,
     "metadata": {},
     "output_type": "execute_result"
    }
   ],
   "source": [
    "most_common = df.occupation.value_counts().nlargest(100)\n",
    "most_common"
   ]
  },
  {
   "cell_type": "markdown",
   "metadata": {},
   "source": [
    "Which we can visualize."
   ]
  },
  {
   "cell_type": "code",
   "execution_count": 10,
   "metadata": {},
   "outputs": [
    {
     "data": {
      "text/plain": [
       "[(('getitem-c5677a6890f353b5ee946f57cf020190', 0),\n",
       "  (<function _operator.getitem>,\n",
       "   ('read-parquet-521abdf7ac5e25f8a066a6df216f1f52', 0),\n",
       "   'occupation')),\n",
       " (('getitem-c5677a6890f353b5ee946f57cf020190', 1),\n",
       "  (<function _operator.getitem>,\n",
       "   ('read-parquet-521abdf7ac5e25f8a066a6df216f1f52', 1),\n",
       "   'occupation')),\n",
       " (('getitem-c5677a6890f353b5ee946f57cf020190', 2),\n",
       "  (<function _operator.getitem>,\n",
       "   ('read-parquet-521abdf7ac5e25f8a066a6df216f1f52', 2),\n",
       "   'occupation')),\n",
       " (('getitem-c5677a6890f353b5ee946f57cf020190', 3),\n",
       "  (<function _operator.getitem>,\n",
       "   ('read-parquet-521abdf7ac5e25f8a066a6df216f1f52', 3),\n",
       "   'occupation')),\n",
       " (('getitem-c5677a6890f353b5ee946f57cf020190', 4),\n",
       "  (<function _operator.getitem>,\n",
       "   ('read-parquet-521abdf7ac5e25f8a066a6df216f1f52', 4),\n",
       "   'occupation')),\n",
       " (('read-parquet-521abdf7ac5e25f8a066a6df216f1f52', 0),\n",
       "  (<function dask.dataframe.io.parquet._read_pyarrow_parquet_piece(fs, piece, columns, index_cols, is_series, partitions, categories)>,\n",
       "   <dask.bytes.local.LocalFileSystem at 0x11be9eeb8>,\n",
       "   ParquetDatasetPiece('/Users/taugspurger/sandbox/scalable-ml/fec/data/indiv-08.parq', row_group=None, partition_keys=[]),\n",
       "   ['occupation'],\n",
       "   [None],\n",
       "   False,\n",
       "   None,\n",
       "   [])),\n",
       " (('read-parquet-521abdf7ac5e25f8a066a6df216f1f52', 1),\n",
       "  (<function dask.dataframe.io.parquet._read_pyarrow_parquet_piece(fs, piece, columns, index_cols, is_series, partitions, categories)>,\n",
       "   <dask.bytes.local.LocalFileSystem at 0x11be9eeb8>,\n",
       "   ParquetDatasetPiece('/Users/taugspurger/sandbox/scalable-ml/fec/data/indiv-10.parq', row_group=None, partition_keys=[]),\n",
       "   ['occupation'],\n",
       "   [None],\n",
       "   False,\n",
       "   None,\n",
       "   [])),\n",
       " (('read-parquet-521abdf7ac5e25f8a066a6df216f1f52', 2),\n",
       "  (<function dask.dataframe.io.parquet._read_pyarrow_parquet_piece(fs, piece, columns, index_cols, is_series, partitions, categories)>,\n",
       "   <dask.bytes.local.LocalFileSystem at 0x11be9eeb8>,\n",
       "   ParquetDatasetPiece('/Users/taugspurger/sandbox/scalable-ml/fec/data/indiv-12.parq', row_group=None, partition_keys=[]),\n",
       "   ['occupation'],\n",
       "   [None],\n",
       "   False,\n",
       "   None,\n",
       "   [])),\n",
       " (('read-parquet-521abdf7ac5e25f8a066a6df216f1f52', 3),\n",
       "  (<function dask.dataframe.io.parquet._read_pyarrow_parquet_piece(fs, piece, columns, index_cols, is_series, partitions, categories)>,\n",
       "   <dask.bytes.local.LocalFileSystem at 0x11be9eeb8>,\n",
       "   ParquetDatasetPiece('/Users/taugspurger/sandbox/scalable-ml/fec/data/indiv-14.parq', row_group=None, partition_keys=[]),\n",
       "   ['occupation'],\n",
       "   [None],\n",
       "   False,\n",
       "   None,\n",
       "   [])),\n",
       " (('read-parquet-521abdf7ac5e25f8a066a6df216f1f52', 4),\n",
       "  (<function dask.dataframe.io.parquet._read_pyarrow_parquet_piece(fs, piece, columns, index_cols, is_series, partitions, categories)>,\n",
       "   <dask.bytes.local.LocalFileSystem at 0x11be9eeb8>,\n",
       "   ParquetDatasetPiece('/Users/taugspurger/sandbox/scalable-ml/fec/data/indiv-16.parq', row_group=None, partition_keys=[]),\n",
       "   ['occupation'],\n",
       "   [None],\n",
       "   False,\n",
       "   None,\n",
       "   [])),\n",
       " (('series-nlargest-agg-11925313de23209cb22d4202c20b7a82', 0),\n",
       "  (<function dask.compatibility.apply(func, args, kwargs=None)>,\n",
       "   <methodcaller: nlargest>,\n",
       "   [(<function dask.dataframe.core._concat(args)>,\n",
       "     [('series-nlargest-chunk-11925313de23209cb22d4202c20b7a82', 0, 0, 0)])],\n",
       "   {'n': 100})),\n",
       " (('series-nlargest-chunk-11925313de23209cb22d4202c20b7a82', 0, 0, 0),\n",
       "  (<function dask.compatibility.apply(func, args, kwargs=None)>,\n",
       "   <methodcaller: nlargest>,\n",
       "   [('value-counts-agg-40afd7e7da4fb6d6e168595a668b3d8d', 0)],\n",
       "   {'n': 100})),\n",
       " (('value-counts-agg-40afd7e7da4fb6d6e168595a668b3d8d', 0),\n",
       "  (<function dask.dataframe.methods.value_counts_aggregate(x)>,\n",
       "   (<function dask.dataframe.core._concat(args)>,\n",
       "    [('value-counts-chunk-40afd7e7da4fb6d6e168595a668b3d8d', 0, 0, 0),\n",
       "     ('value-counts-chunk-40afd7e7da4fb6d6e168595a668b3d8d', 0, 1, 0),\n",
       "     ('value-counts-chunk-40afd7e7da4fb6d6e168595a668b3d8d', 0, 2, 0),\n",
       "     ('value-counts-chunk-40afd7e7da4fb6d6e168595a668b3d8d', 0, 3, 0),\n",
       "     ('value-counts-chunk-40afd7e7da4fb6d6e168595a668b3d8d', 0, 4, 0)]))),\n",
       " (('value-counts-chunk-40afd7e7da4fb6d6e168595a668b3d8d', 0, 0, 0),\n",
       "  (<methodcaller: value_counts>,\n",
       "   ('getitem-c5677a6890f353b5ee946f57cf020190', 0))),\n",
       " (('value-counts-chunk-40afd7e7da4fb6d6e168595a668b3d8d', 0, 1, 0),\n",
       "  (<methodcaller: value_counts>,\n",
       "   ('getitem-c5677a6890f353b5ee946f57cf020190', 1))),\n",
       " (('value-counts-chunk-40afd7e7da4fb6d6e168595a668b3d8d', 0, 2, 0),\n",
       "  (<methodcaller: value_counts>,\n",
       "   ('getitem-c5677a6890f353b5ee946f57cf020190', 2))),\n",
       " (('value-counts-chunk-40afd7e7da4fb6d6e168595a668b3d8d', 0, 3, 0),\n",
       "  (<methodcaller: value_counts>,\n",
       "   ('getitem-c5677a6890f353b5ee946f57cf020190', 3))),\n",
       " (('value-counts-chunk-40afd7e7da4fb6d6e168595a668b3d8d', 0, 4, 0),\n",
       "  (<methodcaller: value_counts>,\n",
       "   ('getitem-c5677a6890f353b5ee946f57cf020190', 4)))]"
      ]
     },
     "execution_count": 10,
     "metadata": {},
     "output_type": "execute_result"
    }
   ],
   "source": [
    "sorted(most_common.dask.items())"
   ]
  },
  {
   "cell_type": "code",
   "execution_count": 11,
   "metadata": {},
   "outputs": [
    {
     "data": {
      "image/svg+xml": [
       "<svg height=\"264pt\" viewBox=\"0.00 0.00 1610.09 263.95\" width=\"1610pt\" xmlns=\"http://www.w3.org/2000/svg\" xmlns:xlink=\"http://www.w3.org/1999/xlink\">\n",
       "<g class=\"graph\" id=\"graph0\" transform=\"scale(1 1) rotate(0) translate(4 259.9503)\">\n",
       "<title>%3</title>\n",
       "<polygon fill=\"#ffffff\" points=\"-4,4 -4,-259.9503 1606.0938,-259.9503 1606.0938,4 -4,4\" stroke=\"transparent\"/>\n",
       "<!-- 5014452919600280345 -->\n",
       "<g class=\"node\" id=\"node1\">\n",
       "<title>5014452919600280345</title>\n",
       "<polygon fill=\"none\" points=\"1323.4355,-147.9503 1113.4012,-147.9503 1113.4012,-111.9503 1323.4355,-111.9503 1323.4355,-147.9503\" stroke=\"#246aae\"/>\n",
       "<text fill=\"#000000\" font-family=\"Times,serif\" font-size=\"14.00\" text-anchor=\"middle\" x=\"1218.4184\" y=\"-125.7503\">('series-nlargest-chunk-#0', 0, 0, 0)</text>\n",
       "</g>\n",
       "<!-- 3679449054554204987 -->\n",
       "<g class=\"node\" id=\"node5\">\n",
       "<title>3679449054554204987</title>\n",
       "<ellipse cx=\"1378.627\" cy=\"-129.9503\" fill=\"none\" rx=\"18.9007\" ry=\"18.9007\" stroke=\"#144d8a\"/>\n",
       "<text fill=\"#000000\" font-family=\"Times,serif\" font-size=\"14.00\" text-anchor=\"middle\" x=\"1378.627\" y=\"-125.7503\">17</text>\n",
       "</g>\n",
       "<!-- 5014452919600280345&#45;&gt;3679449054554204987 -->\n",
       "<g class=\"edge\" id=\"edge4\">\n",
       "<title>5014452919600280345-&gt;3679449054554204987</title>\n",
       "<path d=\"M1323.4923,-129.9503C1332.7926,-129.9503 1341.5939,-129.9503 1349.3215,-129.9503\" fill=\"none\" stroke=\"#000000\"/>\n",
       "<polygon fill=\"#000000\" points=\"1349.4712,-133.4504 1359.4711,-129.9503 1349.4711,-126.4504 1349.4712,-133.4504\" stroke=\"#000000\"/>\n",
       "</g>\n",
       "<!-- &#45;9025646051636428732 -->\n",
       "<g class=\"node\" id=\"node2\">\n",
       "<title>-9025646051636428732</title>\n",
       "<ellipse cx=\"1058.2098\" cy=\"-129.9503\" fill=\"none\" rx=\"18.9007\" ry=\"18.9007\" stroke=\"#246aae\"/>\n",
       "<text fill=\"#000000\" font-family=\"Times,serif\" font-size=\"14.00\" text-anchor=\"middle\" x=\"1058.2098\" y=\"-125.7503\">16</text>\n",
       "</g>\n",
       "<!-- &#45;9025646051636428732&#45;&gt;5014452919600280345 -->\n",
       "<g class=\"edge\" id=\"edge1\">\n",
       "<title>-9025646051636428732-&gt;5014452919600280345</title>\n",
       "<path d=\"M1077.2169,-129.9503C1084.4902,-129.9503 1093.4179,-129.9503 1103.2194,-129.9503\" fill=\"none\" stroke=\"#000000\"/>\n",
       "<polygon fill=\"#000000\" points=\"1103.2832,-133.4504 1113.2832,-129.9503 1103.2832,-126.4504 1103.2832,-133.4504\" stroke=\"#000000\"/>\n",
       "</g>\n",
       "<!-- &#45;2162696196261681714 -->\n",
       "<g class=\"node\" id=\"node3\">\n",
       "<title>-2162696196261681714</title>\n",
       "<polygon fill=\"none\" points=\"1003.4793,-147.9503 843.6012,-147.9503 843.6012,-111.9503 1003.4793,-111.9503 1003.4793,-147.9503\" stroke=\"#3783ba\"/>\n",
       "<text fill=\"#000000\" font-family=\"Times,serif\" font-size=\"14.00\" text-anchor=\"middle\" x=\"923.5403\" y=\"-125.7503\">('value-counts-agg-#1', 0)</text>\n",
       "</g>\n",
       "<!-- &#45;2162696196261681714&#45;&gt;&#45;9025646051636428732 -->\n",
       "<g class=\"edge\" id=\"edge2\">\n",
       "<title>-2162696196261681714-&gt;-9025646051636428732</title>\n",
       "<path d=\"M1003.4345,-129.9503C1012.4426,-129.9503 1021.1398,-129.9503 1028.85,-129.9503\" fill=\"none\" stroke=\"#000000\"/>\n",
       "<polygon fill=\"#000000\" points=\"1029.0223,-133.4504 1039.0222,-129.9503 1029.0222,-126.4504 1029.0223,-133.4504\" stroke=\"#000000\"/>\n",
       "</g>\n",
       "<!-- &#45;8957772112923367662 -->\n",
       "<g class=\"node\" id=\"node4\">\n",
       "<title>-8957772112923367662</title>\n",
       "<polygon fill=\"none\" points=\"1601.8528,-147.9503 1433.8183,-147.9503 1433.8183,-111.9503 1601.8528,-111.9503 1601.8528,-147.9503\" stroke=\"#144d8a\"/>\n",
       "<text fill=\"#000000\" font-family=\"Times,serif\" font-size=\"14.00\" text-anchor=\"middle\" x=\"1517.8355\" y=\"-125.7503\">('series-nlargest-agg-#0', 0)</text>\n",
       "</g>\n",
       "<!-- 3679449054554204987&#45;&gt;&#45;8957772112923367662 -->\n",
       "<g class=\"edge\" id=\"edge3\">\n",
       "<title>3679449054554204987-&gt;-8957772112923367662</title>\n",
       "<path d=\"M1397.6914,-129.9503C1404.9866,-129.9503 1413.8888,-129.9503 1423.516,-129.9503\" fill=\"none\" stroke=\"#000000\"/>\n",
       "<polygon fill=\"#000000\" points=\"1423.774,-133.4504 1433.774,-129.9503 1423.7739,-126.4504 1423.774,-133.4504\" stroke=\"#000000\"/>\n",
       "</g>\n",
       "<!-- 2031007868571704805 -->\n",
       "<g class=\"node\" id=\"node6\">\n",
       "<title>2031007868571704805</title>\n",
       "<polygon fill=\"none\" points=\"734.1402,-255.9503 532.2623,-255.9503 532.2623,-219.9503 734.1402,-219.9503 734.1402,-255.9503\" stroke=\"#b51f2e\"/>\n",
       "<text fill=\"#000000\" font-family=\"Times,serif\" font-size=\"14.00\" text-anchor=\"middle\" x=\"633.2012\" y=\"-233.7503\">('value-counts-chunk-#1', 0, 0, 0)</text>\n",
       "</g>\n",
       "<!-- 6210018726735148647 -->\n",
       "<g class=\"node\" id=\"node21\">\n",
       "<title>6210018726735148647</title>\n",
       "<ellipse cx=\"788.8707\" cy=\"-129.9503\" fill=\"none\" rx=\"18.9007\" ry=\"18.9007\" stroke=\"#3783ba\"/>\n",
       "<text fill=\"#000000\" font-family=\"Times,serif\" font-size=\"14.00\" text-anchor=\"middle\" x=\"788.8707\" y=\"-125.7503\">15</text>\n",
       "</g>\n",
       "<!-- 2031007868571704805&#45;&gt;6210018726735148647 -->\n",
       "<g class=\"edge\" id=\"edge17\">\n",
       "<title>2031007868571704805-&gt;6210018726735148647</title>\n",
       "<path d=\"M718.4999,-219.9438C723.9259,-217.3405 729.1262,-214.3608 733.9205,-210.9503 753.0811,-197.32 767.5829,-174.759 776.8641,-156.9043\" fill=\"none\" stroke=\"#000000\"/>\n",
       "<polygon fill=\"#000000\" points=\"780.1909,-158.072 781.4797,-147.5558 773.9142,-154.973 780.1909,-158.072\" stroke=\"#000000\"/>\n",
       "</g>\n",
       "<!-- &#45;6410120619060317984 -->\n",
       "<g class=\"node\" id=\"node7\">\n",
       "<title>-6410120619060317984</title>\n",
       "<ellipse cx=\"477.5317\" cy=\"-237.9503\" fill=\"none\" rx=\"18\" ry=\"18\" stroke=\"#b51f2e\"/>\n",
       "<text fill=\"#000000\" font-family=\"Times,serif\" font-size=\"14.00\" text-anchor=\"middle\" x=\"477.5317\" y=\"-233.7503\">2</text>\n",
       "</g>\n",
       "<!-- &#45;6410120619060317984&#45;&gt;2031007868571704805 -->\n",
       "<g class=\"edge\" id=\"edge5\">\n",
       "<title>-6410120619060317984-&gt;2031007868571704805</title>\n",
       "<path d=\"M495.6936,-237.9503C503.0322,-237.9503 512.1395,-237.9503 522.1489,-237.9503\" fill=\"none\" stroke=\"#000000\"/>\n",
       "<polygon fill=\"#000000\" points=\"522.427,-241.4504 532.4269,-237.9503 522.4269,-234.4504 522.427,-241.4504\" stroke=\"#000000\"/>\n",
       "</g>\n",
       "<!-- 1797550619520263430 -->\n",
       "<g class=\"node\" id=\"node8\">\n",
       "<title>1797550619520263430</title>\n",
       "<polygon fill=\"none\" points=\"422.5902,-255.9503 317.555,-255.9503 317.555,-219.9503 422.5902,-219.9503 422.5902,-255.9503\" stroke=\"#900d25\"/>\n",
       "<text fill=\"#000000\" font-family=\"Times,serif\" font-size=\"14.00\" text-anchor=\"middle\" x=\"370.0726\" y=\"-233.7503\">('getitem-#2', 0)</text>\n",
       "</g>\n",
       "<!-- 1797550619520263430&#45;&gt;&#45;6410120619060317984 -->\n",
       "<g class=\"edge\" id=\"edge6\">\n",
       "<title>1797550619520263430-&gt;-6410120619060317984</title>\n",
       "<path d=\"M422.8577,-237.9503C432.0104,-237.9503 441.1995,-237.9503 449.3624,-237.9503\" fill=\"none\" stroke=\"#000000\"/>\n",
       "<polygon fill=\"#000000\" points=\"449.4129,-241.4504 459.4129,-237.9503 449.4128,-234.4504 449.4129,-241.4504\" stroke=\"#000000\"/>\n",
       "</g>\n",
       "<!-- 2031009322062701280 -->\n",
       "<g class=\"node\" id=\"node9\">\n",
       "<title>2031009322062701280</title>\n",
       "<polygon fill=\"none\" points=\"734.1402,-201.9503 532.2623,-201.9503 532.2623,-165.9503 734.1402,-165.9503 734.1402,-201.9503\" stroke=\"#ed9676\"/>\n",
       "<text fill=\"#000000\" font-family=\"Times,serif\" font-size=\"14.00\" text-anchor=\"middle\" x=\"633.2012\" y=\"-179.7503\">('value-counts-chunk-#1', 0, 1, 0)</text>\n",
       "</g>\n",
       "<!-- 2031009322062701280&#45;&gt;6210018726735148647 -->\n",
       "<g class=\"edge\" id=\"edge16\">\n",
       "<title>2031009322062701280-&gt;6210018726735148647</title>\n",
       "<path d=\"M707.1641,-165.9022C716.2609,-163.162 725.3621,-160.1649 733.9205,-156.9503 743.5663,-153.3272 753.7862,-148.5765 762.7623,-144.0718\" fill=\"none\" stroke=\"#000000\"/>\n",
       "<polygon fill=\"#000000\" points=\"764.6444,-147.0392 771.9281,-139.3451 761.4361,-140.8177 764.6444,-147.0392\" stroke=\"#000000\"/>\n",
       "</g>\n",
       "<!-- 8384738990802104345 -->\n",
       "<g class=\"node\" id=\"node10\">\n",
       "<title>8384738990802104345</title>\n",
       "<ellipse cx=\"477.5317\" cy=\"-183.9503\" fill=\"none\" rx=\"18\" ry=\"18\" stroke=\"#ed9676\"/>\n",
       "<text fill=\"#000000\" font-family=\"Times,serif\" font-size=\"14.00\" text-anchor=\"middle\" x=\"477.5317\" y=\"-179.7503\">5</text>\n",
       "</g>\n",
       "<!-- 8384738990802104345&#45;&gt;2031009322062701280 -->\n",
       "<g class=\"edge\" id=\"edge7\">\n",
       "<title>8384738990802104345-&gt;2031009322062701280</title>\n",
       "<path d=\"M495.6936,-183.9503C503.0322,-183.9503 512.1395,-183.9503 522.1489,-183.9503\" fill=\"none\" stroke=\"#000000\"/>\n",
       "<polygon fill=\"#000000\" points=\"522.427,-187.4504 532.4269,-183.9503 522.4269,-180.4504 522.427,-187.4504\" stroke=\"#000000\"/>\n",
       "</g>\n",
       "<!-- 1797550619519180905 -->\n",
       "<g class=\"node\" id=\"node11\">\n",
       "<title>1797550619519180905</title>\n",
       "<polygon fill=\"none\" points=\"422.5902,-201.9503 317.555,-201.9503 317.555,-165.9503 422.5902,-165.9503 422.5902,-201.9503\" stroke=\"#db6d57\"/>\n",
       "<text fill=\"#000000\" font-family=\"Times,serif\" font-size=\"14.00\" text-anchor=\"middle\" x=\"370.0726\" y=\"-179.7503\">('getitem-#2', 1)</text>\n",
       "</g>\n",
       "<!-- 1797550619519180905&#45;&gt;8384738990802104345 -->\n",
       "<g class=\"edge\" id=\"edge8\">\n",
       "<title>1797550619519180905-&gt;8384738990802104345</title>\n",
       "<path d=\"M422.8577,-183.9503C432.0104,-183.9503 441.1995,-183.9503 449.3624,-183.9503\" fill=\"none\" stroke=\"#000000\"/>\n",
       "<polygon fill=\"#000000\" points=\"449.4129,-187.4504 459.4129,-183.9503 449.4128,-180.4504 449.4129,-187.4504\" stroke=\"#000000\"/>\n",
       "</g>\n",
       "<!-- 2031004961589711855 -->\n",
       "<g class=\"node\" id=\"node12\">\n",
       "<title>2031004961589711855</title>\n",
       "<polygon fill=\"none\" points=\"734.1402,-147.9503 532.2623,-147.9503 532.2623,-111.9503 734.1402,-111.9503 734.1402,-147.9503\" stroke=\"#fae7db\"/>\n",
       "<text fill=\"#000000\" font-family=\"Times,serif\" font-size=\"14.00\" text-anchor=\"middle\" x=\"633.2012\" y=\"-125.7503\">('value-counts-chunk-#1', 0, 2, 0)</text>\n",
       "</g>\n",
       "<!-- 2031004961589711855&#45;&gt;6210018726735148647 -->\n",
       "<g class=\"edge\" id=\"edge19\">\n",
       "<title>2031004961589711855-&gt;6210018726735148647</title>\n",
       "<path d=\"M733.9875,-129.9503C743.2047,-129.9503 751.9502,-129.9503 759.6404,-129.9503\" fill=\"none\" stroke=\"#000000\"/>\n",
       "<polygon fill=\"#000000\" points=\"759.7485,-133.4504 769.7485,-129.9503 759.7485,-126.4504 759.7485,-133.4504\" stroke=\"#000000\"/>\n",
       "</g>\n",
       "<!-- 1081244863566304618 -->\n",
       "<g class=\"node\" id=\"node13\">\n",
       "<title>1081244863566304618</title>\n",
       "<ellipse cx=\"477.5317\" cy=\"-129.9503\" fill=\"none\" rx=\"18\" ry=\"18\" stroke=\"#fae7db\"/>\n",
       "<text fill=\"#000000\" font-family=\"Times,serif\" font-size=\"14.00\" text-anchor=\"middle\" x=\"477.5317\" y=\"-125.7503\">8</text>\n",
       "</g>\n",
       "<!-- 1081244863566304618&#45;&gt;2031004961589711855 -->\n",
       "<g class=\"edge\" id=\"edge9\">\n",
       "<title>1081244863566304618-&gt;2031004961589711855</title>\n",
       "<path d=\"M495.6936,-129.9503C503.0322,-129.9503 512.1395,-129.9503 522.1489,-129.9503\" fill=\"none\" stroke=\"#000000\"/>\n",
       "<polygon fill=\"#000000\" points=\"522.427,-133.4504 532.4269,-129.9503 522.4269,-126.4504 522.427,-133.4504\" stroke=\"#000000\"/>\n",
       "</g>\n",
       "<!-- 1797550619518098380 -->\n",
       "<g class=\"node\" id=\"node14\">\n",
       "<title>1797550619518098380</title>\n",
       "<polygon fill=\"none\" points=\"422.5902,-147.9503 317.555,-147.9503 317.555,-111.9503 422.5902,-111.9503 422.5902,-147.9503\" stroke=\"#fbd4be\"/>\n",
       "<text fill=\"#000000\" font-family=\"Times,serif\" font-size=\"14.00\" text-anchor=\"middle\" x=\"370.0726\" y=\"-125.7503\">('getitem-#2', 2)</text>\n",
       "</g>\n",
       "<!-- 1797550619518098380&#45;&gt;1081244863566304618 -->\n",
       "<g class=\"edge\" id=\"edge10\">\n",
       "<title>1797550619518098380-&gt;1081244863566304618</title>\n",
       "<path d=\"M422.8577,-129.9503C432.0104,-129.9503 441.1995,-129.9503 449.3624,-129.9503\" fill=\"none\" stroke=\"#000000\"/>\n",
       "<polygon fill=\"#000000\" points=\"449.4129,-133.4504 459.4129,-129.9503 449.4128,-126.4504 449.4129,-133.4504\" stroke=\"#000000\"/>\n",
       "</g>\n",
       "<!-- 2031006415080708330 -->\n",
       "<g class=\"node\" id=\"node15\">\n",
       "<title>2031006415080708330</title>\n",
       "<polygon fill=\"none\" points=\"734.1402,-92.9503 532.2623,-92.9503 532.2623,-56.9503 734.1402,-56.9503 734.1402,-92.9503\" stroke=\"#c9e1ed\"/>\n",
       "<text fill=\"#000000\" font-family=\"Times,serif\" font-size=\"14.00\" text-anchor=\"middle\" x=\"633.2012\" y=\"-70.7503\">('value-counts-chunk-#1', 0, 3, 0)</text>\n",
       "</g>\n",
       "<!-- 2031006415080708330&#45;&gt;6210018726735148647 -->\n",
       "<g class=\"edge\" id=\"edge18\">\n",
       "<title>2031006415080708330-&gt;6210018726735148647</title>\n",
       "<path d=\"M704.4493,-92.9749C714.4419,-96.0181 724.5074,-99.3649 733.9205,-102.9503 743.5495,-106.6179 753.7652,-111.3794 762.7428,-115.8804\" fill=\"none\" stroke=\"#000000\"/>\n",
       "<polygon fill=\"#000000\" points=\"761.4186,-119.1352 771.912,-120.5981 764.6212,-112.9107 761.4186,-119.1352\" stroke=\"#000000\"/>\n",
       "</g>\n",
       "<!-- 8946328843564378275 -->\n",
       "<g class=\"node\" id=\"node16\">\n",
       "<title>8946328843564378275</title>\n",
       "<ellipse cx=\"477.5317\" cy=\"-74.9503\" fill=\"none\" rx=\"18.7537\" ry=\"18.7537\" stroke=\"#c9e1ed\"/>\n",
       "<text fill=\"#000000\" font-family=\"Times,serif\" font-size=\"14.00\" text-anchor=\"middle\" x=\"477.5317\" y=\"-70.7503\">11</text>\n",
       "</g>\n",
       "<!-- 8946328843564378275&#45;&gt;2031006415080708330 -->\n",
       "<g class=\"edge\" id=\"edge11\">\n",
       "<title>8946328843564378275-&gt;2031006415080708330</title>\n",
       "<path d=\"M496.3091,-74.9503C503.587,-74.9503 512.5361,-74.9503 522.344,-74.9503\" fill=\"none\" stroke=\"#000000\"/>\n",
       "<polygon fill=\"#000000\" points=\"522.4081,-78.4504 532.4081,-74.9503 522.4081,-71.4504 522.4081,-78.4504\" stroke=\"#000000\"/>\n",
       "</g>\n",
       "<!-- 1797550619517015855 -->\n",
       "<g class=\"node\" id=\"node17\">\n",
       "<title>1797550619517015855</title>\n",
       "<polygon fill=\"none\" points=\"422.5902,-92.9503 317.555,-92.9503 317.555,-56.9503 422.5902,-56.9503 422.5902,-92.9503\" stroke=\"#e1ecf3\"/>\n",
       "<text fill=\"#000000\" font-family=\"Times,serif\" font-size=\"14.00\" text-anchor=\"middle\" x=\"370.0726\" y=\"-70.7503\">('getitem-#2', 3)</text>\n",
       "</g>\n",
       "<!-- 1797550619517015855&#45;&gt;8946328843564378275 -->\n",
       "<g class=\"edge\" id=\"edge12\">\n",
       "<title>1797550619517015855-&gt;8946328843564378275</title>\n",
       "<path d=\"M422.8577,-74.9503C431.6156,-74.9503 440.4069,-74.9503 448.3006,-74.9503\" fill=\"none\" stroke=\"#000000\"/>\n",
       "<polygon fill=\"#000000\" points=\"448.4208,-78.4504 458.4208,-74.9503 448.4208,-71.4504 448.4208,-78.4504\" stroke=\"#000000\"/>\n",
       "</g>\n",
       "<!-- 2031002054607718905 -->\n",
       "<g class=\"node\" id=\"node18\">\n",
       "<title>2031002054607718905</title>\n",
       "<polygon fill=\"none\" points=\"734.1402,-37.9503 532.2623,-37.9503 532.2623,-1.9503 734.1402,-1.9503 734.1402,-37.9503\" stroke=\"#529cc8\"/>\n",
       "<text fill=\"#000000\" font-family=\"Times,serif\" font-size=\"14.00\" text-anchor=\"middle\" x=\"633.2012\" y=\"-15.7503\">('value-counts-chunk-#1', 0, 4, 0)</text>\n",
       "</g>\n",
       "<!-- 2031002054607718905&#45;&gt;6210018726735148647 -->\n",
       "<g class=\"edge\" id=\"edge20\">\n",
       "<title>2031002054607718905-&gt;6210018726735148647</title>\n",
       "<path d=\"M716.7726,-37.966C722.8269,-40.819 728.6249,-44.1233 733.9205,-47.9503 753.1403,-61.8399 767.6373,-84.672 776.9016,-102.7211\" fill=\"none\" stroke=\"#000000\"/>\n",
       "<polygon fill=\"#000000\" points=\"773.9791,-104.7137 781.5068,-112.1692 780.2714,-101.6466 773.9791,-104.7137\" stroke=\"#000000\"/>\n",
       "</g>\n",
       "<!-- 4576385795031638884 -->\n",
       "<g class=\"node\" id=\"node19\">\n",
       "<title>4576385795031638884</title>\n",
       "<ellipse cx=\"477.5317\" cy=\"-18.9503\" fill=\"none\" rx=\"18.9007\" ry=\"18.9007\" stroke=\"#529cc8\"/>\n",
       "<text fill=\"#000000\" font-family=\"Times,serif\" font-size=\"14.00\" text-anchor=\"middle\" x=\"477.5317\" y=\"-14.7503\">14</text>\n",
       "</g>\n",
       "<!-- 4576385795031638884&#45;&gt;2031002054607718905 -->\n",
       "<g class=\"edge\" id=\"edge13\">\n",
       "<title>4576385795031638884-&gt;2031002054607718905</title>\n",
       "<path d=\"M496.6198,-19.0729C503.7904,-19.119 512.5513,-19.1752 522.1404,-19.2368\" fill=\"none\" stroke=\"#000000\"/>\n",
       "<polygon fill=\"#000000\" points=\"522.379,-22.7384 532.4013,-19.3028 522.424,-15.7385 522.379,-22.7384\" stroke=\"#000000\"/>\n",
       "</g>\n",
       "<!-- 1797550619515933330 -->\n",
       "<g class=\"node\" id=\"node20\">\n",
       "<title>1797550619515933330</title>\n",
       "<polygon fill=\"none\" points=\"422.5902,-36.9503 317.555,-36.9503 317.555,-.9503 422.5902,-.9503 422.5902,-36.9503\" stroke=\"#80bad8\"/>\n",
       "<text fill=\"#000000\" font-family=\"Times,serif\" font-size=\"14.00\" text-anchor=\"middle\" x=\"370.0726\" y=\"-14.7503\">('getitem-#2', 4)</text>\n",
       "</g>\n",
       "<!-- 1797550619515933330&#45;&gt;4576385795031638884 -->\n",
       "<g class=\"edge\" id=\"edge14\">\n",
       "<title>1797550619515933330-&gt;4576385795031638884</title>\n",
       "<path d=\"M422.8577,-18.9503C431.6156,-18.9503 440.4069,-18.9503 448.3006,-18.9503\" fill=\"none\" stroke=\"#000000\"/>\n",
       "<polygon fill=\"#000000\" points=\"448.4208,-22.4504 458.4208,-18.9503 448.4208,-15.4504 448.4208,-22.4504\" stroke=\"#000000\"/>\n",
       "</g>\n",
       "<!-- 6210018726735148647&#45;&gt;&#45;2162696196261681714 -->\n",
       "<g class=\"edge\" id=\"edge15\">\n",
       "<title>6210018726735148647-&gt;-2162696196261681714</title>\n",
       "<path d=\"M807.88,-129.9503C815.1445,-129.9503 823.9951,-129.9503 833.5328,-129.9503\" fill=\"none\" stroke=\"#000000\"/>\n",
       "<polygon fill=\"#000000\" points=\"833.6832,-133.4504 843.6832,-129.9503 833.6831,-126.4504 833.6832,-133.4504\" stroke=\"#000000\"/>\n",
       "</g>\n",
       "<!-- 2147647901251369674 -->\n",
       "<g class=\"node\" id=\"node22\">\n",
       "<title>2147647901251369674</title>\n",
       "<polygon fill=\"none\" points=\"207.5448,-255.9503 74.019,-255.9503 74.019,-219.9503 207.5448,-219.9503 207.5448,-255.9503\" stroke=\"#67001f\"/>\n",
       "<text fill=\"#000000\" font-family=\"Times,serif\" font-size=\"14.00\" text-anchor=\"middle\" x=\"140.7819\" y=\"-233.7503\">('read-parquet-#3', 0)</text>\n",
       "</g>\n",
       "<!-- &#45;1243682903470455953 -->\n",
       "<g class=\"node\" id=\"node32\">\n",
       "<title>-1243682903470455953</title>\n",
       "<ellipse cx=\"262.6136\" cy=\"-237.9503\" fill=\"none\" rx=\"18\" ry=\"18\" stroke=\"#900d25\"/>\n",
       "<text fill=\"#000000\" font-family=\"Times,serif\" font-size=\"14.00\" text-anchor=\"middle\" x=\"262.6136\" y=\"-233.7503\">1</text>\n",
       "</g>\n",
       "<!-- 2147647901251369674&#45;&gt;&#45;1243682903470455953 -->\n",
       "<g class=\"edge\" id=\"edge27\">\n",
       "<title>2147647901251369674-&gt;-1243682903470455953</title>\n",
       "<path d=\"M207.7566,-237.9503C217.032,-237.9503 226.1181,-237.9503 234.1433,-237.9503\" fill=\"none\" stroke=\"#000000\"/>\n",
       "<polygon fill=\"#000000\" points=\"234.3474,-241.4504 244.3474,-237.9503 234.3473,-234.4504 234.3474,-241.4504\" stroke=\"#000000\"/>\n",
       "</g>\n",
       "<!-- &#45;8219109415996340285 -->\n",
       "<g class=\"node\" id=\"node23\">\n",
       "<title>-8219109415996340285</title>\n",
       "<ellipse cx=\"18.9503\" cy=\"-237.9503\" fill=\"none\" rx=\"18\" ry=\"18\" stroke=\"#67001f\"/>\n",
       "<text fill=\"#000000\" font-family=\"Times,serif\" font-size=\"14.00\" text-anchor=\"middle\" x=\"18.9503\" y=\"-233.7503\">0</text>\n",
       "</g>\n",
       "<!-- &#45;8219109415996340285&#45;&gt;2147647901251369674 -->\n",
       "<g class=\"edge\" id=\"edge21\">\n",
       "<title>-8219109415996340285-&gt;2147647901251369674</title>\n",
       "<path d=\"M37.1897,-237.9503C44.7073,-237.9503 53.9676,-237.9503 63.8318,-237.9503\" fill=\"none\" stroke=\"#000000\"/>\n",
       "<polygon fill=\"#000000\" points=\"63.8552,-241.4504 73.8551,-237.9503 63.8551,-234.4504 63.8552,-241.4504\" stroke=\"#000000\"/>\n",
       "</g>\n",
       "<!-- 2147647901250287149 -->\n",
       "<g class=\"node\" id=\"node24\">\n",
       "<title>2147647901250287149</title>\n",
       "<polygon fill=\"none\" points=\"207.5448,-201.9503 74.019,-201.9503 74.019,-165.9503 207.5448,-165.9503 207.5448,-201.9503\" stroke=\"#c94641\"/>\n",
       "<text fill=\"#000000\" font-family=\"Times,serif\" font-size=\"14.00\" text-anchor=\"middle\" x=\"140.7819\" y=\"-179.7503\">('read-parquet-#3', 1)</text>\n",
       "</g>\n",
       "<!-- &#45;8436184754193269644 -->\n",
       "<g class=\"node\" id=\"node33\">\n",
       "<title>-8436184754193269644</title>\n",
       "<ellipse cx=\"262.6136\" cy=\"-183.9503\" fill=\"none\" rx=\"18\" ry=\"18\" stroke=\"#db6d57\"/>\n",
       "<text fill=\"#000000\" font-family=\"Times,serif\" font-size=\"14.00\" text-anchor=\"middle\" x=\"262.6136\" y=\"-179.7503\">4</text>\n",
       "</g>\n",
       "<!-- 2147647901250287149&#45;&gt;&#45;8436184754193269644 -->\n",
       "<g class=\"edge\" id=\"edge29\">\n",
       "<title>2147647901250287149-&gt;-8436184754193269644</title>\n",
       "<path d=\"M207.7566,-183.9503C217.032,-183.9503 226.1181,-183.9503 234.1433,-183.9503\" fill=\"none\" stroke=\"#000000\"/>\n",
       "<polygon fill=\"#000000\" points=\"234.3474,-187.4504 244.3474,-183.9503 234.3473,-180.4504 234.3474,-187.4504\" stroke=\"#000000\"/>\n",
       "</g>\n",
       "<!-- &#45;7127267215161678760 -->\n",
       "<g class=\"node\" id=\"node25\">\n",
       "<title>-7127267215161678760</title>\n",
       "<ellipse cx=\"18.9503\" cy=\"-183.9503\" fill=\"none\" rx=\"18\" ry=\"18\" stroke=\"#c94641\"/>\n",
       "<text fill=\"#000000\" font-family=\"Times,serif\" font-size=\"14.00\" text-anchor=\"middle\" x=\"18.9503\" y=\"-179.7503\">3</text>\n",
       "</g>\n",
       "<!-- &#45;7127267215161678760&#45;&gt;2147647901250287149 -->\n",
       "<g class=\"edge\" id=\"edge22\">\n",
       "<title>-7127267215161678760-&gt;2147647901250287149</title>\n",
       "<path d=\"M37.1897,-183.9503C44.7073,-183.9503 53.9676,-183.9503 63.8318,-183.9503\" fill=\"none\" stroke=\"#000000\"/>\n",
       "<polygon fill=\"#000000\" points=\"63.8552,-187.4504 73.8551,-183.9503 63.8551,-180.4504 63.8552,-187.4504\" stroke=\"#000000\"/>\n",
       "</g>\n",
       "<!-- 2147647901249204624 -->\n",
       "<g class=\"node\" id=\"node26\">\n",
       "<title>2147647901249204624</title>\n",
       "<polygon fill=\"none\" points=\"207.5448,-147.9503 74.019,-147.9503 74.019,-111.9503 207.5448,-111.9503 207.5448,-147.9503\" stroke=\"#f7b698\"/>\n",
       "<text fill=\"#000000\" font-family=\"Times,serif\" font-size=\"14.00\" text-anchor=\"middle\" x=\"140.7819\" y=\"-125.7503\">('read-parquet-#3', 2)</text>\n",
       "</g>\n",
       "<!-- &#45;7349223566235565419 -->\n",
       "<g class=\"node\" id=\"node34\">\n",
       "<title>-7349223566235565419</title>\n",
       "<ellipse cx=\"262.6136\" cy=\"-129.9503\" fill=\"none\" rx=\"18\" ry=\"18\" stroke=\"#fbd4be\"/>\n",
       "<text fill=\"#000000\" font-family=\"Times,serif\" font-size=\"14.00\" text-anchor=\"middle\" x=\"262.6136\" y=\"-125.7503\">7</text>\n",
       "</g>\n",
       "<!-- 2147647901249204624&#45;&gt;&#45;7349223566235565419 -->\n",
       "<g class=\"edge\" id=\"edge31\">\n",
       "<title>2147647901249204624-&gt;-7349223566235565419</title>\n",
       "<path d=\"M207.7566,-129.9503C217.032,-129.9503 226.1181,-129.9503 234.1433,-129.9503\" fill=\"none\" stroke=\"#000000\"/>\n",
       "<polygon fill=\"#000000\" points=\"234.3474,-133.4504 244.3474,-129.9503 234.3473,-126.4504 234.3474,-133.4504\" stroke=\"#000000\"/>\n",
       "</g>\n",
       "<!-- 2750204477557960681 -->\n",
       "<g class=\"node\" id=\"node27\">\n",
       "<title>2750204477557960681</title>\n",
       "<ellipse cx=\"18.9503\" cy=\"-129.9503\" fill=\"none\" rx=\"18\" ry=\"18\" stroke=\"#f7b698\"/>\n",
       "<text fill=\"#000000\" font-family=\"Times,serif\" font-size=\"14.00\" text-anchor=\"middle\" x=\"18.9503\" y=\"-125.7503\">6</text>\n",
       "</g>\n",
       "<!-- 2750204477557960681&#45;&gt;2147647901249204624 -->\n",
       "<g class=\"edge\" id=\"edge23\">\n",
       "<title>2750204477557960681-&gt;2147647901249204624</title>\n",
       "<path d=\"M37.1897,-129.9503C44.7073,-129.9503 53.9676,-129.9503 63.8318,-129.9503\" fill=\"none\" stroke=\"#000000\"/>\n",
       "<polygon fill=\"#000000\" points=\"63.8552,-133.4504 73.8551,-129.9503 63.8551,-126.4504 63.8552,-133.4504\" stroke=\"#000000\"/>\n",
       "</g>\n",
       "<!-- 2147647901248122099 -->\n",
       "<g class=\"node\" id=\"node28\">\n",
       "<title>2147647901248122099</title>\n",
       "<polygon fill=\"none\" points=\"207.5448,-92.9503 74.019,-92.9503 74.019,-56.9503 207.5448,-56.9503 207.5448,-92.9503\" stroke=\"#f6f6f6\"/>\n",
       "<text fill=\"#000000\" font-family=\"Times,serif\" font-size=\"14.00\" text-anchor=\"middle\" x=\"140.7819\" y=\"-70.7503\">('read-parquet-#3', 3)</text>\n",
       "</g>\n",
       "<!-- 2486045103450254122 -->\n",
       "<g class=\"node\" id=\"node35\">\n",
       "<title>2486045103450254122</title>\n",
       "<ellipse cx=\"262.6136\" cy=\"-74.9503\" fill=\"none\" rx=\"18.9007\" ry=\"18.9007\" stroke=\"#e1ecf3\"/>\n",
       "<text fill=\"#000000\" font-family=\"Times,serif\" font-size=\"14.00\" text-anchor=\"middle\" x=\"262.6136\" y=\"-70.7503\">10</text>\n",
       "</g>\n",
       "<!-- 2147647901248122099&#45;&gt;2486045103450254122 -->\n",
       "<g class=\"edge\" id=\"edge33\">\n",
       "<title>2147647901248122099-&gt;2486045103450254122</title>\n",
       "<path d=\"M207.7566,-74.9503C216.8039,-74.9503 225.6711,-74.9503 233.5494,-74.9503\" fill=\"none\" stroke=\"#000000\"/>\n",
       "<polygon fill=\"#000000\" points=\"233.6035,-78.4504 243.6035,-74.9503 233.6035,-71.4504 233.6035,-78.4504\" stroke=\"#000000\"/>\n",
       "</g>\n",
       "<!-- 4042239526035009406 -->\n",
       "<g class=\"node\" id=\"node29\">\n",
       "<title>4042239526035009406</title>\n",
       "<ellipse cx=\"18.9503\" cy=\"-74.9503\" fill=\"none\" rx=\"18\" ry=\"18\" stroke=\"#f6f6f6\"/>\n",
       "<text fill=\"#000000\" font-family=\"Times,serif\" font-size=\"14.00\" text-anchor=\"middle\" x=\"18.9503\" y=\"-70.7503\">9</text>\n",
       "</g>\n",
       "<!-- 4042239526035009406&#45;&gt;2147647901248122099 -->\n",
       "<g class=\"edge\" id=\"edge24\">\n",
       "<title>4042239526035009406-&gt;2147647901248122099</title>\n",
       "<path d=\"M37.1897,-74.9503C44.7073,-74.9503 53.9676,-74.9503 63.8318,-74.9503\" fill=\"none\" stroke=\"#000000\"/>\n",
       "<polygon fill=\"#000000\" points=\"63.8552,-78.4504 73.8551,-74.9503 63.8551,-71.4504 63.8552,-78.4504\" stroke=\"#000000\"/>\n",
       "</g>\n",
       "<!-- 2147647901255699774 -->\n",
       "<g class=\"node\" id=\"node30\">\n",
       "<title>2147647901255699774</title>\n",
       "<polygon fill=\"none\" points=\"207.5448,-36.9503 74.019,-36.9503 74.019,-.9503 207.5448,-.9503 207.5448,-36.9503\" stroke=\"#a7cfe4\"/>\n",
       "<text fill=\"#000000\" font-family=\"Times,serif\" font-size=\"14.00\" text-anchor=\"middle\" x=\"140.7819\" y=\"-14.7503\">('read-parquet-#3', 4)</text>\n",
       "</g>\n",
       "<!-- 3201337000743759547 -->\n",
       "<g class=\"node\" id=\"node36\">\n",
       "<title>3201337000743759547</title>\n",
       "<ellipse cx=\"262.6136\" cy=\"-18.9503\" fill=\"none\" rx=\"18.9007\" ry=\"18.9007\" stroke=\"#80bad8\"/>\n",
       "<text fill=\"#000000\" font-family=\"Times,serif\" font-size=\"14.00\" text-anchor=\"middle\" x=\"262.6136\" y=\"-14.7503\">13</text>\n",
       "</g>\n",
       "<!-- 2147647901255699774&#45;&gt;3201337000743759547 -->\n",
       "<g class=\"edge\" id=\"edge35\">\n",
       "<title>2147647901255699774-&gt;3201337000743759547</title>\n",
       "<path d=\"M207.7566,-18.9503C216.8039,-18.9503 225.6711,-18.9503 233.5494,-18.9503\" fill=\"none\" stroke=\"#000000\"/>\n",
       "<polygon fill=\"#000000\" points=\"233.6035,-22.4504 243.6035,-18.9503 233.6035,-15.4504 233.6035,-22.4504\" stroke=\"#000000\"/>\n",
       "</g>\n",
       "<!-- 4902699440706010231 -->\n",
       "<g class=\"node\" id=\"node31\">\n",
       "<title>4902699440706010231</title>\n",
       "<ellipse cx=\"18.9503\" cy=\"-18.9503\" fill=\"none\" rx=\"18.9007\" ry=\"18.9007\" stroke=\"#a7cfe4\"/>\n",
       "<text fill=\"#000000\" font-family=\"Times,serif\" font-size=\"14.00\" text-anchor=\"middle\" x=\"18.9503\" y=\"-14.7503\">12</text>\n",
       "</g>\n",
       "<!-- 4902699440706010231&#45;&gt;2147647901255699774 -->\n",
       "<g class=\"edge\" id=\"edge25\">\n",
       "<title>4902699440706010231-&gt;2147647901255699774</title>\n",
       "<path d=\"M37.9865,-18.9503C45.3377,-18.9503 54.266,-18.9503 63.7564,-18.9503\" fill=\"none\" stroke=\"#000000\"/>\n",
       "<polygon fill=\"#000000\" points=\"63.8073,-22.4504 73.8072,-18.9503 63.8072,-15.4504 63.8073,-22.4504\" stroke=\"#000000\"/>\n",
       "</g>\n",
       "<!-- &#45;1243682903470455953&#45;&gt;1797550619520263430 -->\n",
       "<g class=\"edge\" id=\"edge26\">\n",
       "<title>-1243682903470455953-&gt;1797550619520263430</title>\n",
       "<path d=\"M280.8425,-237.9503C288.3977,-237.9503 297.6479,-237.9503 307.299,-237.9503\" fill=\"none\" stroke=\"#000000\"/>\n",
       "<polygon fill=\"#000000\" points=\"307.4474,-241.4504 317.4474,-237.9503 307.4473,-234.4504 307.4474,-241.4504\" stroke=\"#000000\"/>\n",
       "</g>\n",
       "<!-- &#45;8436184754193269644&#45;&gt;1797550619519180905 -->\n",
       "<g class=\"edge\" id=\"edge28\">\n",
       "<title>-8436184754193269644-&gt;1797550619519180905</title>\n",
       "<path d=\"M280.8425,-183.9503C288.3977,-183.9503 297.6479,-183.9503 307.299,-183.9503\" fill=\"none\" stroke=\"#000000\"/>\n",
       "<polygon fill=\"#000000\" points=\"307.4474,-187.4504 317.4474,-183.9503 307.4473,-180.4504 307.4474,-187.4504\" stroke=\"#000000\"/>\n",
       "</g>\n",
       "<!-- &#45;7349223566235565419&#45;&gt;1797550619518098380 -->\n",
       "<g class=\"edge\" id=\"edge30\">\n",
       "<title>-7349223566235565419-&gt;1797550619518098380</title>\n",
       "<path d=\"M280.8425,-129.9503C288.3977,-129.9503 297.6479,-129.9503 307.299,-129.9503\" fill=\"none\" stroke=\"#000000\"/>\n",
       "<polygon fill=\"#000000\" points=\"307.4474,-133.4504 317.4474,-129.9503 307.4473,-126.4504 307.4474,-133.4504\" stroke=\"#000000\"/>\n",
       "</g>\n",
       "<!-- 2486045103450254122&#45;&gt;1797550619517015855 -->\n",
       "<g class=\"edge\" id=\"edge32\">\n",
       "<title>2486045103450254122-&gt;1797550619517015855</title>\n",
       "<path d=\"M281.8251,-74.9503C289.1845,-74.9503 298.0422,-74.9503 307.2675,-74.9503\" fill=\"none\" stroke=\"#000000\"/>\n",
       "<polygon fill=\"#000000\" points=\"307.3687,-78.4504 317.3687,-74.9503 307.3686,-71.4504 307.3687,-78.4504\" stroke=\"#000000\"/>\n",
       "</g>\n",
       "<!-- 3201337000743759547&#45;&gt;1797550619515933330 -->\n",
       "<g class=\"edge\" id=\"edge34\">\n",
       "<title>3201337000743759547-&gt;1797550619515933330</title>\n",
       "<path d=\"M281.8251,-18.9503C289.1845,-18.9503 298.0422,-18.9503 307.2675,-18.9503\" fill=\"none\" stroke=\"#000000\"/>\n",
       "<polygon fill=\"#000000\" points=\"307.3687,-22.4504 317.3687,-18.9503 307.3686,-15.4504 307.3687,-22.4504\" stroke=\"#000000\"/>\n",
       "</g>\n",
       "</g>\n",
       "</svg>"
      ],
      "text/plain": [
       "<IPython.core.display.SVG object>"
      ]
     },
     "execution_count": 11,
     "metadata": {},
     "output_type": "execute_result"
    }
   ],
   "source": [
    "most_common.visualize(filename=\"scalable-most-common\", format=\"svg\", rankdir='LR', color=\"order\")"
   ]
  },
  {
   "cell_type": "markdown",
   "metadata": {},
   "source": [
    "So `most_common` doesn't hold the actual answer yet. Instead, it holds a recipe for the answer; a list of all the steps to take to get the concrete result. One way to ask for the result is with the `compute` method."
   ]
  },
  {
   "cell_type": "code",
   "execution_count": 12,
   "metadata": {},
   "outputs": [
    {
     "data": {
      "text/plain": [
       "RETIRED                    4769520\n",
       "NOT EMPLOYED               2656988\n",
       "ATTORNEY                   1340434\n",
       "PHYSICIAN                   659082\n",
       "HOMEMAKER                   494187\n",
       "                            ...   \n",
       "CHIEF EXECUTIVE OFFICER      26551\n",
       "SURGEON                      25521\n",
       "EDITOR                       25457\n",
       "OPERATOR                     25151\n",
       "ORTHOPAEDIC SURGEON          24384\n",
       "Name: occupation, Length: 100, dtype: int64"
      ]
     },
     "execution_count": 12,
     "metadata": {},
     "output_type": "execute_result"
    }
   ],
   "source": [
    "most_common.compute()"
   ]
  },
  {
   "cell_type": "markdown",
   "metadata": {},
   "source": [
    "At this point, the task graph is handed to a [scheduler](https://dask.pydata.org/en/latest/scheduling.html), which is responsible for executing a task graph. Schedulers can analyze the tasks to be run to discover which tasks can be run *in parallel*. (Dask includes several schedulers. See [the scheduling documentation](http://dask.pydata.org/en/latest/scheduling.html) for how to choose, though Dask has good defaults.)\n",
    "\n",
    "So that's a high-level tour of how Dask works: \n",
    "\n",
    "![](http://dask.pydata.org/en/latest/_images/collections-schedulers.png)\n",
    "\n",
    "1. Various collections collections like `dask.dataframe` and `dask.array`\n",
    "   provide users familiar APIs for working with large datasets.\n",
    "2. Computations are represented as a task graph. These graphs could be built by\n",
    "   hand, or more commonly built by one of the collections.\n",
    "3. Dask schedulers run task graphs in parallel (potentially distributed across\n",
    "   a cluster), reusing libraries like NumPy and pandas to do the computations.\n",
    "\n",
    "Let's finish off this post by continuing to explore the FEC dataset with Dask. At this point, we'll use the distributed scheduler for it's nice diagnostics."
   ]
  },
  {
   "cell_type": "code",
   "execution_count": 13,
   "metadata": {},
   "outputs": [
    {
     "data": {
      "text/html": [
       "<table style=\"border: 2px solid white;\">\n",
       "<tr>\n",
       "<td style=\"vertical-align: top; border: 0px solid white\">\n",
       "<h3>Client</h3>\n",
       "<ul>\n",
       "  <li><b>Scheduler: </b>inproc://192.168.7.20/65295/1\n",
       "  <li><b>Dashboard: </b><a href='http://localhost:64169/status' target='_blank'>http://localhost:64169/status</a>\n",
       "</ul>\n",
       "</td>\n",
       "<td style=\"vertical-align: top; border: 0px solid white\">\n",
       "<h3>Cluster</h3>\n",
       "<ul>\n",
       "  <li><b>Workers: </b>1</li>\n",
       "  <li><b>Cores: </b>8</li>\n",
       "  <li><b>Memory: </b>17.18 GB</li>\n",
       "</ul>\n",
       "</td>\n",
       "</tr>\n",
       "</table>"
      ],
      "text/plain": [
       "<Client: scheduler='inproc://192.168.7.20/65295/1' processes=1 cores=8>"
      ]
     },
     "execution_count": 13,
     "metadata": {},
     "output_type": "execute_result"
    }
   ],
   "source": [
    "import dask.dataframe as dd\n",
    "from dask import compute\n",
    "from dask.distributed import Client\n",
    "import seaborn as sns\n",
    "\n",
    "client = Client(processes=False)\n",
    "client"
   ]
  },
  {
   "cell_type": "markdown",
   "metadata": {},
   "source": [
    "Calling `Client` without providing a scheduler address will make a local cluster of threads or processes on your machine. There are [many ways](http://dask.pydata.org/en/latest/setup.html) to deploy a Dask cluster, though we're particularly fond of [Kubernetes](http://dask.pydata.org/en/latest/setup/kubernetes.html). This highlights one of my favorite features of Dask: it scales down to use a handful of threads on a laptop *or* up to a cluster with thousands of nodes. Dask can comfortably handle medium-sized datasets (dozens of GBs, so larger than RAM) on a laptop. Or it can scale up to very large datasets with a cluster."
   ]
  },
  {
   "cell_type": "code",
   "execution_count": 14,
   "metadata": {},
   "outputs": [
    {
     "data": {
      "text/html": [
       "<div><strong>Dask DataFrame Structure:</strong></div>\n",
       "<div>\n",
       "<style scoped>\n",
       "    .dataframe tbody tr th:only-of-type {\n",
       "        vertical-align: middle;\n",
       "    }\n",
       "\n",
       "    .dataframe tbody tr th {\n",
       "        vertical-align: top;\n",
       "    }\n",
       "\n",
       "    .dataframe thead th {\n",
       "        text-align: right;\n",
       "    }\n",
       "</style>\n",
       "<table border=\"1\" class=\"dataframe\">\n",
       "  <thead>\n",
       "    <tr style=\"text-align: right;\">\n",
       "      <th></th>\n",
       "      <th>cmte_id</th>\n",
       "      <th>entity_tp</th>\n",
       "      <th>employer</th>\n",
       "      <th>occupation</th>\n",
       "      <th>transaction_dt</th>\n",
       "      <th>transaction_amt</th>\n",
       "    </tr>\n",
       "    <tr>\n",
       "      <th>npartitions=35</th>\n",
       "      <th></th>\n",
       "      <th></th>\n",
       "      <th></th>\n",
       "      <th></th>\n",
       "      <th></th>\n",
       "      <th></th>\n",
       "    </tr>\n",
       "  </thead>\n",
       "  <tbody>\n",
       "    <tr>\n",
       "      <th></th>\n",
       "      <td>object</td>\n",
       "      <td>object</td>\n",
       "      <td>object</td>\n",
       "      <td>object</td>\n",
       "      <td>datetime64[ns]</td>\n",
       "      <td>int64</td>\n",
       "    </tr>\n",
       "    <tr>\n",
       "      <th></th>\n",
       "      <td>...</td>\n",
       "      <td>...</td>\n",
       "      <td>...</td>\n",
       "      <td>...</td>\n",
       "      <td>...</td>\n",
       "      <td>...</td>\n",
       "    </tr>\n",
       "    <tr>\n",
       "      <th>...</th>\n",
       "      <td>...</td>\n",
       "      <td>...</td>\n",
       "      <td>...</td>\n",
       "      <td>...</td>\n",
       "      <td>...</td>\n",
       "      <td>...</td>\n",
       "    </tr>\n",
       "    <tr>\n",
       "      <th></th>\n",
       "      <td>...</td>\n",
       "      <td>...</td>\n",
       "      <td>...</td>\n",
       "      <td>...</td>\n",
       "      <td>...</td>\n",
       "      <td>...</td>\n",
       "    </tr>\n",
       "    <tr>\n",
       "      <th></th>\n",
       "      <td>...</td>\n",
       "      <td>...</td>\n",
       "      <td>...</td>\n",
       "      <td>...</td>\n",
       "      <td>...</td>\n",
       "      <td>...</td>\n",
       "    </tr>\n",
       "  </tbody>\n",
       "</table>\n",
       "</div>\n",
       "<div>Dask Name: read-parquet, 35 tasks</div>"
      ],
      "text/plain": [
       "Dask DataFrame Structure:\n",
       "               cmte_id entity_tp employer occupation  transaction_dt transaction_amt\n",
       "npartitions=35                                                                      \n",
       "                object    object   object     object  datetime64[ns]           int64\n",
       "                   ...       ...      ...        ...             ...             ...\n",
       "...                ...       ...      ...        ...             ...             ...\n",
       "                   ...       ...      ...        ...             ...             ...\n",
       "                   ...       ...      ...        ...             ...             ...\n",
       "Dask Name: read-parquet, 35 tasks"
      ]
     },
     "execution_count": 14,
     "metadata": {},
     "output_type": "execute_result"
    }
   ],
   "source": [
    "individual_cols = ['cmte_id', 'entity_tp', 'employer', 'occupation',\n",
    "                   'transaction_dt', 'transaction_amt']\n",
    "\n",
    "indiv = dd.read_parquet('data/indiv-*.parquet',\n",
    "                        columns=individual_cols,\n",
    "                        engine=\"pyarrow\")\n",
    "indiv"
   ]
  },
  {
   "cell_type": "markdown",
   "metadata": {},
   "source": [
    "We can compute summary statistics like the average mean and standard deviation of the transaction amount:"
   ]
  },
  {
   "cell_type": "code",
   "execution_count": 15,
   "metadata": {},
   "outputs": [],
   "source": [
    "avg_transaction = indiv.transaction_amt.mean()"
   ]
  },
  {
   "cell_type": "markdown",
   "metadata": {},
   "source": [
    "We can answer questions like \"Which employer's employees donated the most?\""
   ]
  },
  {
   "cell_type": "code",
   "execution_count": 16,
   "metadata": {},
   "outputs": [],
   "source": [
    "total_by_employee = (\n",
    "    indiv.groupby('employer')\n",
    "        .transaction_amt.sum()\n",
    "        .nlargest(10)\n",
    ")"
   ]
  },
  {
   "cell_type": "markdown",
   "metadata": {},
   "source": [
    "Or \"what is the average amount donated per occupation?\""
   ]
  },
  {
   "cell_type": "code",
   "execution_count": 17,
   "metadata": {},
   "outputs": [],
   "source": [
    "avg_by_occupation = (\n",
    "    indiv.groupby(\"occupation\")\n",
    "        .transaction_amt.mean()\n",
    "        .nlargest(10)\n",
    ")"
   ]
  },
  {
   "cell_type": "markdown",
   "metadata": {},
   "source": [
    "Since Dask is lazy, we haven't actually computed anything."
   ]
  },
  {
   "cell_type": "code",
   "execution_count": 18,
   "metadata": {},
   "outputs": [
    {
     "data": {
      "text/plain": [
       "Dask Series Structure:\n",
       "npartitions=1\n",
       "    int64\n",
       "      ...\n",
       "Name: transaction_amt, dtype: int64\n",
       "Dask Name: series-nlargest-agg, 78 tasks"
      ]
     },
     "execution_count": 18,
     "metadata": {},
     "output_type": "execute_result"
    }
   ],
   "source": [
    "total_by_employee"
   ]
  },
  {
   "cell_type": "markdown",
   "metadata": {},
   "source": [
    "`avg_transaction`, `avg_by_occupation` and `total_by_employee` are three separate computations (they have different task graphs), but we know they share some structure: they're all reading in the same data, they might select the same subset of columns, and so on. Dask is able to avoid redundant computation when you use the top-level `dask.compute` function."
   ]
  },
  {
   "cell_type": "code",
   "execution_count": 19,
   "metadata": {},
   "outputs": [
    {
     "name": "stdout",
     "output_type": "stream",
     "text": [
      "CPU times: user 1min 8s, sys: 12 s, total: 1min 20s\n",
      "Wall time: 56.8 s\n"
     ]
    }
   ],
   "source": [
    "%%time\n",
    "avg_transaction, by_employee, by_occupation = compute(\n",
    "    avg_transaction, total_by_employee, avg_by_occupation\n",
    ")"
   ]
  },
  {
   "cell_type": "code",
   "execution_count": 20,
   "metadata": {},
   "outputs": [
    {
     "data": {
      "text/plain": [
       "566.0899206077507"
      ]
     },
     "execution_count": 20,
     "metadata": {},
     "output_type": "execute_result"
    }
   ],
   "source": [
    "avg_transaction"
   ]
  },
  {
   "cell_type": "code",
   "execution_count": 21,
   "metadata": {},
   "outputs": [
    {
     "data": {
      "text/plain": [
       "employer\n",
       "RETIRED                1019973117\n",
       "SELF-EMPLOYED           834547641\n",
       "SELF                    537402882\n",
       "SELF EMPLOYED           447363032\n",
       "NONE                    418011322\n",
       "HOMEMAKER               355195126\n",
       "NOT EMPLOYED            345770418\n",
       "FAHR, LLC               166679844\n",
       "CANDIDATE                75186830\n",
       "ADELSON DRUG CLINIC      53358500\n",
       "Name: transaction_amt, dtype: int64"
      ]
     },
     "execution_count": 21,
     "metadata": {},
     "output_type": "execute_result"
    }
   ],
   "source": [
    "by_employee"
   ]
  },
  {
   "cell_type": "code",
   "execution_count": 22,
   "metadata": {},
   "outputs": [
    {
     "data": {
      "text/plain": [
       "occupation\n",
       "CHAIRMAN CEO & FOUNDER                   1,023,333.33\n",
       "PAULSON AND CO., INC.                    1,000,000.00\n",
       "CO-FOUNDING DIRECTOR                       875,000.00\n",
       "CHAIRMAN/CHIEF TECHNOLOGY OFFICER          750,350.00\n",
       "CO-FOUNDER, DIRECTOR, CHIEF INFORMATIO     675,000.00\n",
       "CO-FOUNDER, DIRECTOR                       550,933.33\n",
       "MOORE CAPITAL GROUP, LP                    500,000.00\n",
       "PERRY HOMES                                500,000.00\n",
       "OWNER, FOUNDER AND CEO                     500,000.00\n",
       "CHIEF EXECUTIVE OFFICER/PRODUCER           500,000.00\n",
       "Name: transaction_amt, dtype: float64"
      ]
     },
     "execution_count": 22,
     "metadata": {},
     "output_type": "execute_result"
    }
   ],
   "source": [
    "by_occupation"
   ]
  },
  {
   "cell_type": "markdown",
   "metadata": {},
   "source": [
    "While that was running, I was watching the diagnostics page. I noticed that one of the `read-parquet` tasks took much longer than the rest, which held up all the subsequent combinations. I suspect this is because `indiv` is currently partitioned by files, and the files are not equal sizes. The 2015 - 2016 cycles contains many more contributions than the 2007-2008 one.\n",
    "\n",
    "If you had a cluster, so that the full dataset fits in memory, you could [persist](http://dask.pydata.org/en/latest/dataframe-performance.html#persist-intelligently) the dataframe after repartitioning. Since I'm just on a laptop, we'll persist write the repartioned dataframe to disk."
   ]
  },
  {
   "cell_type": "code",
   "execution_count": 23,
   "metadata": {},
   "outputs": [],
   "source": [
    "# indiv = indiv.repartition(npartitions=20)\n",
    "\n",
    "# indiv.to_parquet(\"data/individual.parquet\", engine=\"pyarrow\")\n",
    "\n",
    "# indiv = dd.read_parquet('data/individual.parquet/',\n",
    "#                         columns=individual_cols,\n",
    "#                         engine=\"pyarrow\")"
   ]
  },
  {
   "cell_type": "code",
   "execution_count": 24,
   "metadata": {},
   "outputs": [
    {
     "data": {
      "text/html": [
       "<div><strong>Dask DataFrame Structure:</strong></div>\n",
       "<div>\n",
       "<style scoped>\n",
       "    .dataframe tbody tr th:only-of-type {\n",
       "        vertical-align: middle;\n",
       "    }\n",
       "\n",
       "    .dataframe tbody tr th {\n",
       "        vertical-align: top;\n",
       "    }\n",
       "\n",
       "    .dataframe thead th {\n",
       "        text-align: right;\n",
       "    }\n",
       "</style>\n",
       "<table border=\"1\" class=\"dataframe\">\n",
       "  <thead>\n",
       "    <tr style=\"text-align: right;\">\n",
       "      <th></th>\n",
       "      <th>cmte_id</th>\n",
       "      <th>entity_tp</th>\n",
       "      <th>employer</th>\n",
       "      <th>occupation</th>\n",
       "      <th>transaction_dt</th>\n",
       "      <th>transaction_amt</th>\n",
       "    </tr>\n",
       "    <tr>\n",
       "      <th>npartitions=35</th>\n",
       "      <th></th>\n",
       "      <th></th>\n",
       "      <th></th>\n",
       "      <th></th>\n",
       "      <th></th>\n",
       "      <th></th>\n",
       "    </tr>\n",
       "  </thead>\n",
       "  <tbody>\n",
       "    <tr>\n",
       "      <th></th>\n",
       "      <td>object</td>\n",
       "      <td>object</td>\n",
       "      <td>object</td>\n",
       "      <td>object</td>\n",
       "      <td>datetime64[ns]</td>\n",
       "      <td>int64</td>\n",
       "    </tr>\n",
       "    <tr>\n",
       "      <th></th>\n",
       "      <td>...</td>\n",
       "      <td>...</td>\n",
       "      <td>...</td>\n",
       "      <td>...</td>\n",
       "      <td>...</td>\n",
       "      <td>...</td>\n",
       "    </tr>\n",
       "    <tr>\n",
       "      <th>...</th>\n",
       "      <td>...</td>\n",
       "      <td>...</td>\n",
       "      <td>...</td>\n",
       "      <td>...</td>\n",
       "      <td>...</td>\n",
       "      <td>...</td>\n",
       "    </tr>\n",
       "    <tr>\n",
       "      <th></th>\n",
       "      <td>...</td>\n",
       "      <td>...</td>\n",
       "      <td>...</td>\n",
       "      <td>...</td>\n",
       "      <td>...</td>\n",
       "      <td>...</td>\n",
       "    </tr>\n",
       "    <tr>\n",
       "      <th></th>\n",
       "      <td>...</td>\n",
       "      <td>...</td>\n",
       "      <td>...</td>\n",
       "      <td>...</td>\n",
       "      <td>...</td>\n",
       "      <td>...</td>\n",
       "    </tr>\n",
       "  </tbody>\n",
       "</table>\n",
       "</div>\n",
       "<div>Dask Name: read-parquet, 35 tasks</div>"
      ],
      "text/plain": [
       "Dask DataFrame Structure:\n",
       "               cmte_id entity_tp employer occupation  transaction_dt transaction_amt\n",
       "npartitions=35                                                                      \n",
       "                object    object   object     object  datetime64[ns]           int64\n",
       "                   ...       ...      ...        ...             ...             ...\n",
       "...                ...       ...      ...        ...             ...             ...\n",
       "                   ...       ...      ...        ...             ...             ...\n",
       "                   ...       ...      ...        ...             ...             ...\n",
       "Dask Name: read-parquet, 35 tasks"
      ]
     },
     "execution_count": 24,
     "metadata": {},
     "output_type": "execute_result"
    }
   ],
   "source": [
    "indiv"
   ]
  },
  {
   "cell_type": "markdown",
   "metadata": {},
   "source": [
    "Things like filtering work well. Let's find the 10 most common occupations and filter the dataset down to just those."
   ]
  },
  {
   "cell_type": "code",
   "execution_count": null,
   "metadata": {},
   "outputs": [],
   "source": [
    "top_occupations = (\n",
    "    indiv.occupation.value_counts()\n",
    "        .nlargest(10).index\n",
    ").compute()\n",
    "top_occupations"
   ]
  },
  {
   "cell_type": "markdown",
   "metadata": {},
   "source": [
    "We'll filter the raw records down to just the ones from those occupations. Then we'll compute a few summary statistics on the transaction amounts for each group."
   ]
  },
  {
   "cell_type": "code",
   "execution_count": null,
   "metadata": {},
   "outputs": [],
   "source": [
    "donations = (\n",
    "    indiv[indiv.occupation.isin(top_occupations)]\n",
    "        .groupby(\"occupation\")\n",
    "        .transaction_amt\n",
    "        .agg(['count', 'mean', 'sum', 'max'])\n",
    ")"
   ]
  },
  {
   "cell_type": "code",
   "execution_count": null,
   "metadata": {},
   "outputs": [],
   "source": [
    "total_avg, occupation_avg = compute(indiv.transaction_amt.mean(),\n",
    "                                    donations['mean'])"
   ]
  },
  {
   "cell_type": "markdown",
   "metadata": {},
   "source": [
    "These are small, concrete results so we can turn to familiar tools like matplotlib to visualize the result."
   ]
  },
  {
   "cell_type": "code",
   "execution_count": null,
   "metadata": {},
   "outputs": [],
   "source": [
    "ax = occupation_avg.sort_values(ascending=False).plot.barh(color='k', width=0.9);\n",
    "lim = ax.get_ylim()\n",
    "ax.vlines(total_avg, *lim, color='C1', linewidth=3)\n",
    "ax.legend(['Average donation'])\n",
    "ax.set(xlabel=\"Donation Amount\", title=\"Average Dontation by Occupation\")\n",
    "sns.despine()"
   ]
  },
  {
   "cell_type": "markdown",
   "metadata": {},
   "source": [
    "Dask inherits all of pandas' great time-series support. We can get the total amount donated per day using a [`resample`](https://pandas.pydata.org/pandas-docs/stable/timeseries.html#resampling)."
   ]
  },
  {
   "cell_type": "code",
   "execution_count": null,
   "metadata": {},
   "outputs": [],
   "source": [
    "daily = (\n",
    "    indiv[['transaction_dt', 'transaction_amt']].dropna()\n",
    "        .set_index('transaction_dt')['transaction_amt']\n",
    "        .resample(\"D\")\n",
    "        .sum()\n",
    ").compute()\n",
    "daily"
   ]
  },
  {
   "cell_type": "markdown",
   "metadata": {},
   "source": [
    "It seems like we have some bad data. This should just be 2007-2016. We'll filter it down to the real subset before plotting."
   ]
  },
  {
   "cell_type": "code",
   "execution_count": null,
   "metadata": {},
   "outputs": [],
   "source": [
    "subset = daily.loc['2011':'2016']"
   ]
  },
  {
   "cell_type": "code",
   "execution_count": null,
   "metadata": {},
   "outputs": [],
   "source": [
    "ax = subset.div(1000).plot(figsize=(12, 6))\n",
    "ax.set(ylim=0, title=\"Daily Donations\", ylabel=\"$ (thousands)\",)\n",
    "sns.despine();"
   ]
  },
  {
   "cell_type": "markdown",
   "metadata": {},
   "source": [
    "## Joining"
   ]
  },
  {
   "cell_type": "markdown",
   "metadata": {},
   "source": [
    "Like pandas, Dask supports joining together multiple datasets.\n",
    "\n",
    "Individual donations are made to *committees*. Committees are what make the actual expenditures (buying a TV ad).\n",
    "Some committees are directly tied to a candidate (this are campaign committees). Other committees are tied to a group (like the Republican National Committee). Either may be tied to a party.\n",
    "\n",
    "Let's read in the committees. The total number of committees is small, so we'll `.compute` immediately to get a pandas DataFrame (the reads still happen in parallel!)."
   ]
  },
  {
   "cell_type": "code",
   "execution_count": null,
   "metadata": {},
   "outputs": [],
   "source": [
    "committee_cols = ['cmte_id', 'cmte_nm', 'cmte_tp', 'cmte_pty_affiliation']\n",
    "cm = dd.read_parquet(\"data/cm-*.parq\",\n",
    "                     columns=committee_cols).compute()\n",
    "\n",
    "# Some committees change thier name, but the ID stays the same\n",
    "cm = cm.groupby('cmte_id').last()\n",
    "cm"
   ]
  },
  {
   "cell_type": "markdown",
   "metadata": {},
   "source": [
    "We'll use `dd.merge`, which is analogous to `pd.merge` for joining a Dask `DataFrame` with a pandas or Dask `DataFrame`."
   ]
  },
  {
   "cell_type": "code",
   "execution_count": null,
   "metadata": {},
   "outputs": [],
   "source": [
    "indiv = indiv[(indiv.transaction_dt >= pd.Timestamp(\"2007-01-01\")) &\n",
    "              (indiv.transaction_dt <= pd.Timestamp(\"2018-01-01\"))]\n",
    "\n",
    "df2 = dd.merge(indiv, cm.reset_index(), on='cmte_id')\n",
    "df2"
   ]
  },
  {
   "cell_type": "markdown",
   "metadata": {},
   "source": [
    "Now we can find which party raised more over the course of each election. We'll group by the day and party and sum the transaction amounts."
   ]
  },
  {
   "cell_type": "code",
   "execution_count": null,
   "metadata": {},
   "outputs": [],
   "source": [
    "indiv = indiv.repartition(npartitions=10)\n",
    "df2 = dd.merge(indiv, cm.reset_index(), on='cmte_id')\n",
    "df2"
   ]
  },
  {
   "cell_type": "code",
   "execution_count": null,
   "metadata": {},
   "outputs": [],
   "source": [
    "party_donations = (\n",
    "    df2.groupby([df2.transaction_dt, 'cmte_pty_affiliation'])\n",
    "       .transaction_amt.sum()\n",
    ").compute().sort_index()"
   ]
  },
  {
   "cell_type": "markdown",
   "metadata": {},
   "source": [
    "We'll filter that down to just Republican and Democrats and plot."
   ]
  },
  {
   "cell_type": "code",
   "execution_count": null,
   "metadata": {},
   "outputs": [],
   "source": [
    "ax = (\n",
    "    party_donations.loc[:, ['REP', 'DEM']]\n",
    "        .unstack(\"cmte_pty_affiliation\").iloc[1:-2]\n",
    "        .rolling('30D').mean().plot(color=['C0', 'C3'], figsize=(12, 6),\n",
    "                                    linewidth=3)\n",
    ")\n",
    "sns.despine()\n",
    "ax.set(title=\"Daily Donations (30-D Moving Average)\", xlabel=\"Date\");"
   ]
  },
  {
   "cell_type": "markdown",
   "metadata": {},
   "source": [
    "## Try It Out!\n",
    "\n",
    "So that's a taste of Dask. Next time you hit a scaling problem with pandas (or NumPy, scikit-learn, or your custom code), feel free to\n",
    "\n",
    "```\n",
    "pip install dask[complete]\n",
    "```\n",
    "\n",
    "or\n",
    "\n",
    "```\n",
    "conda install dask\n",
    "```\n",
    "\n",
    "The [dask homepage](http://dask.pydata.org/en/latest/) has links to all the relevant documentation, and [binder notebooks](https://mybinder.org/v2/gh/dask/dask-examples/master?filepath=dataframe.ipynb) where you can try out Dask before installing.\n",
    "\n",
    "As always, reach out to me on [Twitter](https://twitter.com/TomAugspurger) or in the comments if you have anything to share."
   ]
  }
 ],
 "metadata": {
  "kernelspec": {
   "display_name": "Python 3",
   "language": "python",
   "name": "python3"
  },
  "language_info": {
   "codemirror_mode": {
    "name": "ipython",
    "version": 3
   },
   "file_extension": ".py",
   "mimetype": "text/x-python",
   "name": "python",
   "nbconvert_exporter": "python",
   "pygments_lexer": "ipython3",
   "version": "3.6.5"
  }
 },
 "nbformat": 4,
 "nbformat_minor": 2
}
